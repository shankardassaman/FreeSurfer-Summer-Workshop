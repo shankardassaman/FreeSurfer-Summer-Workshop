{
 "cells": [
  {
   "cell_type": "markdown",
   "metadata": {},
   "source": [
    "# How to run a recon on one subject"
   ]
  },
  {
   "cell_type": "markdown",
   "metadata": {},
   "source": [
    "### First make a directory to put your subject in\n",
    "\n",
    "```bash\n",
    "mkdir -p /Users/${me}/Desktop/my-first-recon\n",
    "```"
   ]
  },
  {
   "cell_type": "markdown",
   "metadata": {},
   "source": [
    "### Next need to clone data repository\n",
    "```bash\n",
    "git clone https://github.com/seldamat/FreeSurfer-Summer-Workshop.git\n",
    "```\n",
    "\n",
    "### If already cloned, then you need to sync to the repository..\n",
    "```bash\n",
    "git pull # pull if you've cloned already\n",
    "```\n",
    "### git fetch upstream if you've forked\n",
    "```bash\n",
    "# Otherwise, if you have fork then fetch\n",
    "git fetch upstream\n",
    "git checkout master\n",
    "git merge upstream/master\n",
    "```"
   ]
  },
  {
   "cell_type": "markdown",
   "metadata": {},
   "source": [
    "### Once you have the data, then you must import into your new subjects directory. FreeSurfer's ```recon-all``` command can take care of this for us."
   ]
  },
  {
   "cell_type": "markdown",
   "metadata": {},
   "source": [
    "## First, let's define a variable that points to our data on the repo so that we don't have to type it all out\n",
    "\n",
    "```bash\n",
    "datadir=/Users/${me}/Documents/Github/FreeSurfer-Summer-Workshop/mris/hydration-experiment/nii.gz\n",
    "```\n",
    "\n",
    "## Check that this is correct by listing the contents and don't forget to use a ```$``` when referring to a variable that you've defined\n",
    "```bash\n",
    "ls ${datadir}\n",
    "```"
   ]
  },
  {
   "cell_type": "markdown",
   "metadata": {},
   "source": [
    "## The last and most important step before running recon-all is to make sure your subjects directory points to the right place.\n",
    "```bash\n",
    "# check to see if it is pointing to the right place\n",
    "echo $SUBJECTS_DIR\n",
    "SUBJECTS_DIR=/Users/${me}/Desktop/my-first-recon\n",
    "# check the files are there\n",
    "ls $SUBJECTS_DIR\n",
    "```"
   ]
  },
  {
   "cell_type": "markdown",
   "metadata": {},
   "source": [
    "## Now we can run our recon to import the files\n",
    "\n",
    "### Explanation of Options & Inputs to recon-all\n",
    "    * -i    you only need to provide this option if you've never imported data for this subject. you should omit this if you're rerunning a subject. The argument (what comes after -i) to -i is going to the full path to the structural image.\n",
    "    * -s    you will always need to specify a -s because is the subject name, you need to make sure that each subject has a unique name and be sure to distinguish between multiple scans that exist for a single subject. In this example, we specify each 'subject' by including the scan day and the scan number.\n",
    "    * -all  is also a very important flag. this will run ALL of the steps.. if you don't specify -all, recon-all won't know what steps to run.\n",
    "    * -brain-structures is an extra argument for getting brainstem maps\n",
    "    * -hippocampal-subfields is an extra argument for getting parcellations of the hippocampus\n",
    "    * -3T option is absolutely required for scanners with a 3 Tesla magnetic field strength\n",
    "\n",
    "```bash\n",
    "recon-all -i ${datadir}/baseline-day/FSSUM-1/GR_IR-Siemens_MPRAGE.nii.gz \\\n",
    " -s sub01_day01_scan01 -all -brainstem-structures -hippocampal-subfields-T1 -3T \\\n",
    " > $SUBJECTS_DIR/my-first-recon.log &\n",
    "```\n",
    "\n",
    "### What about that weird arrow and the ampersand??\n",
    "\n",
    "The arrow at the end of the recon-all command just reroutes the output of the command and places it into a file that you specify.. Here that file is a log file contained within $SUBJECTS_DIR.\n",
    "\n",
    "The ampersand is a command that you can add on to any command to run in the background. This will allow you to continue entering commands in the terminal session..."
   ]
  },
  {
   "cell_type": "markdown",
   "metadata": {},
   "source": [
    "### Here is an example of the ampersand\n"
   ]
  },
  {
   "cell_type": "code",
   "execution_count": 3,
   "metadata": {},
   "outputs": [
    {
     "name": "stdout",
     "output_type": "stream",
     "text": [
      "im awake!\n",
      "[1]+  Done                    sleep 3 && echo 'im awake!'\n",
      "im awake!\n"
     ]
    }
   ],
   "source": [
    "sleep 3 && echo 'im awake!'"
   ]
  },
  {
   "cell_type": "code",
   "execution_count": 4,
   "metadata": {},
   "outputs": [
    {
     "name": "stdout",
     "output_type": "stream",
     "text": [
      "[1] 74766\n"
     ]
    }
   ],
   "source": [
    "sleep 3 && echo 'im awake!' & "
   ]
  },
  {
   "cell_type": "markdown",
   "metadata": {},
   "source": [
    "### How to stop a job if it's running and hogging all of your resources\n",
    "\n",
    "Hopefully, you've run this job in the background with the log printed to a file, so you can always know what step it was at before you stopped it.\n",
    "\n",
    "To stop any command, you have to know the Process ID.. The PID.\n",
    "\n",
    "This will often be printed to the screen after you submit a job. Once you have it written down, then you can just type:\n",
    "\n",
    "```bash\n",
    "kill <PID>\n",
    "```\n",
    "\n",
    "Ok, well what if you don't know what the PID is? You can look it up! If you know anything about the command you submitted, you can look for it in the output of ```ps aux```.\n",
    "\n",
    "For example,\n",
    "\n",
    "```bash\n",
    "ps aux | grep 'recon-all -s sub01_day01_scan01'\n",
    "```"
   ]
  },
  {
   "cell_type": "markdown",
   "metadata": {},
   "source": [
    "### How to view the output/status of our current job?\n",
    "\n",
    "Well.. you need a log file OR you can check ```$SUBJECTS_DIR/<subid>/scripts/recon-all-status.log```\n",
    "\n",
    "The log file is more convenient for large batch jobs.\n",
    "\n",
    "```bash\n",
    "cat $SUBJECTS_DIR/my-first-recon.log\n",
    "```"
   ]
  },
  {
   "cell_type": "code",
   "execution_count": null,
   "metadata": {
    "collapsed": true
   },
   "outputs": [],
   "source": []
  },
  {
   "cell_type": "code",
   "execution_count": null,
   "metadata": {
    "collapsed": true
   },
   "outputs": [],
   "source": []
  }
 ],
 "metadata": {
  "kernelspec": {
   "display_name": "Bash",
   "language": "bash",
   "name": "bash"
  },
  "language_info": {
   "codemirror_mode": "shell",
   "file_extension": ".sh",
   "mimetype": "text/x-sh",
   "name": "bash"
  }
 },
 "nbformat": 4,
 "nbformat_minor": 2
}
