{
 "cells": [
  {
   "cell_type": "markdown",
   "metadata": {
    "collapsed": true
   },
   "source": [
    "# Jupyter Notebooks\n",
    "\n",
    "If you've made it this far, congratulations! This is a jupyter notebook running in a bourne again shell (bash). \n",
    "    👉 Double click any cell box to edit it's contents. \n",
    "    👉 You can click the run button >| to execute the cell's contents.\n",
    "\n",
    "\n",
    "\n",
    "## Let's find a way to share our discovery with everyone"
   ]
  },
  {
   "cell_type": "code",
   "execution_count": 3,
   "metadata": {
    "collapsed": true
   },
   "outputs": [],
   "source": [
    "open /Applications/Slack.app/Contents/MacOS/Slack"
   ]
  },
  {
   "cell_type": "markdown",
   "metadata": {
    "collapsed": true
   },
   "source": [
    "## What is the 'bourne again shell' anyway?\n",
    "\n",
    "This notebook can execute any commands you'd normally be able to type into a unix Bash shell (i.e. in the iTerm session). The bash shell is a command processor that runs computer commands in as operations on text. The syntax for these operations abides by syntax established by the Unix kernel . This was, and remains in scientific & engineering discplines, the go-to method for operating a computer.\n",
    "\n",
    "What is Unix anyway? Only one way to find out, Let's dive in"
   ]
  },
  {
   "cell_type": "code",
   "execution_count": 9,
   "metadata": {},
   "outputs": [
    {
     "name": "stdout",
     "output_type": "stream",
     "text": [
      "The file /Users/Shady/FreeSurfer-Summer-Workshop/.oops/Presentation|04|2017-06-26.pdf does not exist.\n"
     ]
    },
    {
     "ename": "",
     "evalue": "1",
     "output_type": "error",
     "traceback": []
    }
   ],
   "source": [
    "open '.oops/Presentation|04|2017-06-26.pdf'"
   ]
  },
  {
   "cell_type": "markdown",
   "metadata": {},
   "source": [
    "## Did the command properly execute? If not can you guess why? How can we fix this? \n",
    "\n",
    "Enter your proposed fix below and type shift + enter to execute the cell"
   ]
  },
  {
   "cell_type": "code",
   "execution_count": null,
   "metadata": {
    "collapsed": true
   },
   "outputs": [],
   "source": []
  }
 ],
 "metadata": {
  "kernelspec": {
   "display_name": "Bash",
   "language": "bash",
   "name": "bash"
  },
  "language_info": {
   "codemirror_mode": "shell",
   "file_extension": ".sh",
   "mimetype": "text/x-sh",
   "name": "bash"
  }
 },
 "nbformat": 4,
 "nbformat_minor": 2
}
